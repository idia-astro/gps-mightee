{
 "cells": [
  {
   "cell_type": "markdown",
   "metadata": {},
   "source": [
    "# Export DS9 regions from SoFiA catalogue source finding\n",
    "***\n",
    "\n",
    "By Sambatriniaina Hagiriche Aycha Rajohnson\n",
    "Creation date: 21 July, 2020\n",
    "last modification date: 22 July, 2020\n",
    "\n",
    "This notebook convert the ASCII file output from SoFiA 1 and 2 source finding into a DS9 region file for CARTA viewing.\n",
    "\n",
    "* The Position Angle for DS9 needs a 90 degrwee rotation from the SoFiA value where 0 degree points up.\n",
    "* Major and minor axis have been extended a little bit so that we can get a bigger region.\n",
    "\n",
    "Example of DS9 region file:\n",
    "```\n",
    "# Region file format: DS9 CARTA 1.3\n",
    "global color=green delete=1 edit=1 fixed=0 font=\"helvetica 10 normal roman\" highlite=1 include=1 move=1 select=1\n",
    "j2000\n",
    "ellipse(36.012578,-4.571263,47.91\",41.92\",132.87891)\n",
    "ellipse(35.295253,-4.071827,85.34\",100.18\",90)\n",
    "ellipse(36.480394,-4.314750,58.45\",64.29\",90)\n",
    "ellipse(35.805644,-4.517012,83.15\",59.76\",132.80162)\n",
    "ellipse(35.369564,-4.413031,146.39\",84.91\",142.69041)\n",
    "ellipse(35.408155,-5.524019,128.50\",215.69\",116.49154)\n",
    "ellipse(35.682307,-3.971196,83.78\",108.04\",109.24953)\n",
    "ellipse(35.960785,-4.615938,178.81\",163.76\",149.15005)\n",
    "ellipse(35.366034,-5.471881,177.05\",79.11\",72.462677)\n",
    "ellipse(35.409419,-5.442272,38.09\",38.57\",127.47618)\n",
    "ellipse(35.450349,-4.770462,24.55\",23.18\",90)\n",
    "ellipse(35.564430,-4.813109,12.35\",12.97\",90)\n",
    "circle(36.288804,-4.604073,21.32\")\n",
    "ellipse(35.601872,-4.965397,22.00\",25.14\",90)\n",
    "```"
   ]
  },
  {
   "cell_type": "code",
   "execution_count": 1,
   "metadata": {},
   "outputs": [],
   "source": [
    "def make_regions(catalogue = '', pixel_size=3, sofia_version=1, output_name = ''):\n",
    "    file = open(catalogue,'r')\n",
    "    ra = []\n",
    "    dec = []\n",
    "    bmaj = []\n",
    "    bmin = []\n",
    "    pa = []\n",
    "    if sofia_version == 1:\n",
    "        column = [34,35,21,22,23]\n",
    "    else:\n",
    "        column = [32,33,21,22,23]\n",
    "    for line in file.readlines():\n",
    "        if not line.startswith('#') and len(line.split()) != 0:\n",
    "            #Avoid comment and empty lines\n",
    "            ra.append(float(line.split()[column[0]]))\n",
    "            dec.append(float(line.split()[column[1]]))\n",
    "            bmaj.append(float(line.split()[column[2]]))\n",
    "            bmin.append(float(line.split()[column[3]]))\n",
    "            pa.append(float(line.split()[column[4]])+90) #rotate of 90 degrees\n",
    "    bmaj_arcsec = [(i*pixel_size)*3/2 for i in bmaj] #extent a little bit\n",
    "    bmin_arcsec = [(i*pixel_size)*3/2 for i in bmin]\n",
    "    \n",
    "    #Writing output DS9 region file\n",
    "    with open(output_name,'w') as region_file:\n",
    "        print('# Region file format: DS9 CARTA 1.3',file=region_file)\n",
    "        print('''global color=green delete=1 edit=1 fixed=0 font=\"helvetica 10 normal roman\" highlite=1 include=1 move=1 select=1''',file=region_file)\n",
    "        print('j2000',file=region_file)\n",
    "        [print('ellipse('+str(ra[i])+','+str(dec[i])+','+str(bmaj_arcsec[i])+'\",'\n",
    "               +str(bmin_arcsec[i])+'\",'+str(pa[i])+')', file = region_file) for i in range(len(ra))]"
   ]
  },
  {
   "cell_type": "code",
   "execution_count": 2,
   "metadata": {},
   "outputs": [],
   "source": [
    "inputname = '1V0_HI_cube_1547499081/T30R00C02/2020_07_20_Sofia2_4sig_70_rel/0123456789_V0_T30R00C02_HI.image_cat.txt'\n",
    "outputname = '/carta_share/users/aycha/Gps_sofia_regions/0123456789_V0_T30R00C02_HI.sofia_2.2_hydra_param.region_file.txt'"
   ]
  },
  {
   "cell_type": "code",
   "execution_count": 3,
   "metadata": {},
   "outputs": [],
   "source": [
    "make_regions(inputname, sofia_version=2, output_name=outputname)"
   ]
  },
  {
   "cell_type": "code",
   "execution_count": null,
   "metadata": {},
   "outputs": [],
   "source": []
  }
 ],
 "metadata": {
  "kernelspec": {
   "display_name": "Python 3",
   "language": "python",
   "name": "python3"
  },
  "language_info": {
   "codemirror_mode": {
    "name": "ipython",
    "version": 3
   },
   "file_extension": ".py",
   "mimetype": "text/x-python",
   "name": "python",
   "nbconvert_exporter": "python",
   "pygments_lexer": "ipython3",
   "version": "3.7.3"
  }
 },
 "nbformat": 4,
 "nbformat_minor": 4
}
